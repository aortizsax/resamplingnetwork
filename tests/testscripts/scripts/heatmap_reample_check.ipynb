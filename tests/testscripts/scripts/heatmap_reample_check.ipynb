{
 "cells": [
  {
   "cell_type": "code",
   "execution_count": 332,
   "id": "8b2aefb6",
   "metadata": {},
   "outputs": [
    {
     "name": "stdout",
     "output_type": "stream",
     "text": [
      "μ=49.5\n",
      "σ=28.86607004772212\n"
     ]
    }
   ],
   "source": [
    "import numpy as np\n",
    "import matplotlib.pyplot as plt\n",
    "from scipy.stats import bernoulli, norm, poisson\n",
    "from scipy import stats\n",
    "from scipy.stats import kurtosis, skew\n",
    "import seaborn as sns\n",
    "import pandas as pd\n",
    "\n",
    "X = np.random.choice(np.arange(0, 100), 100, replace=False)\n",
    "print(f'μ={X.mean()}')\n",
    "print(f'σ={X.std()}')\n"
   ]
  },
  {
   "cell_type": "code",
   "execution_count": 4,
   "id": "68363c5c",
   "metadata": {},
   "outputs": [
    {
     "data": {
      "text/plain": [
       "array([[ 6, 87, 84, 84, 30],\n",
       "       [ 5, 66, 29, 43, 26],\n",
       "       [62, 52,  5, 75, 80],\n",
       "       [32, 88, 41, 65, 53],\n",
       "       [23, 26, 28, 86, 78]])"
      ]
     },
     "execution_count": 4,
     "metadata": {},
     "output_type": "execute_result"
    }
   ],
   "source": [
    "rs = []\n",
    "for i in range(100):\n",
    "    rs.append(np.random.choice(X, 5))\n",
    "rs = np.array(rs)# 5 examples of our random samples\n",
    "\n",
    "rs[:5]\n"
   ]
  },
  {
   "cell_type": "code",
   "execution_count": 7,
   "id": "bd4aeb67",
   "metadata": {},
   "outputs": [
    {
     "name": "stdout",
     "output_type": "stream",
     "text": [
      "[58.2 33.8 54.8 55.8 48.2]\n"
     ]
    },
    {
     "data": {
      "image/png": "[encoded data removed]",
      "text/plain": [
       "<Figure size 432x288 with 1 Axes>"
      ]
     },
     "metadata": {
      "needs_background": "light"
     },
     "output_type": "display_data"
    }
   ],
   "source": [
    "x_bar = rs.mean(axis=1)\n",
    "print(x_bar[:5])\n",
    "plt.hist(x_bar, bins=100);"
   ]
  },
  {
   "cell_type": "code",
   "execution_count": 9,
   "id": "c86bd8e2",
   "metadata": {},
   "outputs": [
    {
     "data": {
      "image/png": "[encoded data removed]",
      "text/plain": [
       "<Figure size 432x288 with 1 Axes>"
      ]
     },
     "metadata": {
      "needs_background": "light"
     },
     "output_type": "display_data"
    }
   ],
   "source": [
    "#look for morty\n",
    "p = 0.6\n",
    "n = 10\n",
    "X = bernoulli(p)\n",
    "Y = [X.rvs(n) for i in range(10000)]\n",
    "\n",
    "plt.hist(np.sum(Y, axis=1));"
   ]
  },
  {
   "cell_type": "code",
   "execution_count": 11,
   "id": "79fd32b6",
   "metadata": {},
   "outputs": [
    {
     "name": "stdout",
     "output_type": "stream",
     "text": [
      "Empirically calculated expected value: 0.60025\n",
      "Theoretical expected value: 0.6\n",
      "Empirically calculated standard deviation: 0.1549417229154239\n",
      "Theoretical standard deviation: 0.15491933384829668\n"
     ]
    }
   ],
   "source": [
    "print('Empirically calculated expected value: {}'.format(np.mean(np.mean(Y, axis=1))))\n",
    "print('Theoretical expected value: {}'.format(p))\n",
    "\n",
    "print('Empirically calculated standard deviation: {}'.format(np.std(np.mean(Y, axis=1))))\n",
    "print('Theoretical standard deviation: {}'.format(np.sqrt(p*(1-p)/n)))"
   ]
  },
  {
   "cell_type": "code",
   "execution_count": 45,
   "id": "b2d578fd",
   "metadata": {},
   "outputs": [
    {
     "name": "stdout",
     "output_type": "stream",
     "text": [
      "20.0\n",
      "80.0\n"
     ]
    }
   ],
   "source": [
    "#\n",
    "n = 100\n",
    "p = 0.2\n",
    "print(n*p)\n",
    "print(n*(1-p))\n"
   ]
  },
  {
   "cell_type": "code",
   "execution_count": 53,
   "id": "f4edfda0",
   "metadata": {},
   "outputs": [
    {
     "data": {
      "image/png": "[encoded data removed]",
      "text/plain": [
       "<Figure size 432x288 with 1 Axes>"
      ]
     },
     "metadata": {
      "needs_background": "light"
     },
     "output_type": "display_data"
    }
   ],
   "source": [
    "X = bernoulli(p)\n",
    "Y = [X.rvs(100) for i in range(10000)]\n",
    "\n",
    "normal = np.random.normal(p*n, np.sqrt(n*p*(1-p)), (1000, ))\n",
    "density = stats.gaussian_kde(normal)\n",
    "n_, x, _ = plt.hist(normal, bins=np.linspace(0, 40, 100), \n",
    "                   histtype=u'step', density=True) \n",
    "plt.close()\n",
    "\n",
    "plt.hist(np.sum(Y, axis=1), density=True)\n",
    "plt.plot(x, density(x));"
   ]
  },
  {
   "cell_type": "code",
   "execution_count": 55,
   "id": "5db877a4",
   "metadata": {},
   "outputs": [
    {
     "name": "stdout",
     "output_type": "stream",
     "text": [
      "Empirically calculated expected value: 0.200136\n",
      "Theoretical expected value: 0.2\n",
      "Empirically calculated standard deviation: 0.0398835994363598\n",
      "Theoretical standard deviation: 0.04\n"
     ]
    },
    {
     "ename": "NameError",
     "evalue": "name 'p_' is not defined",
     "output_type": "error",
     "traceback": [
      "\u001b[0;31m---------------------------------------------------------------------------\u001b[0m",
      "\u001b[0;31mNameError\u001b[0m                                 Traceback (most recent call last)",
      "Input \u001b[0;32mIn [55]\u001b[0m, in \u001b[0;36m<cell line: 7>\u001b[0;34m()\u001b[0m\n\u001b[1;32m      4\u001b[0m \u001b[38;5;28mprint\u001b[39m(\u001b[38;5;124m'\u001b[39m\u001b[38;5;124mEmpirically calculated standard deviation: \u001b[39m\u001b[38;5;132;01m{}\u001b[39;00m\u001b[38;5;124m'\u001b[39m\u001b[38;5;241m.\u001b[39mformat(np\u001b[38;5;241m.\u001b[39mstd(np\u001b[38;5;241m.\u001b[39mmean(Y, axis\u001b[38;5;241m=\u001b[39m\u001b[38;5;241m1\u001b[39m))))\n\u001b[1;32m      5\u001b[0m \u001b[38;5;28mprint\u001b[39m(\u001b[38;5;124m'\u001b[39m\u001b[38;5;124mTheoretical standard deviation: \u001b[39m\u001b[38;5;132;01m{}\u001b[39;00m\u001b[38;5;124m'\u001b[39m\u001b[38;5;241m.\u001b[39mformat(np\u001b[38;5;241m.\u001b[39msqrt(p\u001b[38;5;241m*\u001b[39m(\u001b[38;5;241m1\u001b[39m\u001b[38;5;241m-\u001b[39mp)\u001b[38;5;241m/\u001b[39mn)))\n\u001b[0;32m----> 7\u001b[0m \u001b[38;5;28mprint\u001b[39m(\u001b[38;5;124mf\u001b[39m\u001b[38;5;124m'\u001b[39m\u001b[38;5;124mP(p>0.12)=\u001b[39m\u001b[38;5;132;01m{\u001b[39;00m\u001b[38;5;241m1\u001b[39m\u001b[38;5;241m-\u001b[39mnorm\u001b[38;5;241m.\u001b[39mcdf(p_, p, np\u001b[38;5;241m.\u001b[39msqrt(p\u001b[38;5;241m*\u001b[39m(\u001b[38;5;241m1\u001b[39m\u001b[38;5;241m-\u001b[39mp)\u001b[38;5;241m/\u001b[39mn))\u001b[38;5;132;01m}\u001b[39;00m\u001b[38;5;124m'\u001b[39m)\n",
      "\u001b[0;31mNameError\u001b[0m: name 'p_' is not defined"
     ]
    }
   ],
   "source": [
    "print('Empirically calculated expected value: {}'.format(np.mean(np.mean(Y, axis=1))))\n",
    "print('Theoretical expected value: {}'.format(p))\n",
    "\n",
    "print('Empirically calculated standard deviation: {}'.format(np.std(np.mean(Y, axis=1))))\n",
    "print('Theoretical standard deviation: {}'.format(np.sqrt(p*(1-p)/n)))\n",
    "\n",
    "print(f'P(p>0.12)={1-norm.cdf(p_, p, np.sqrt(p*(1-p)/n))}')"
   ]
  },
  {
   "cell_type": "code",
   "execution_count": 81,
   "id": "e3c3dd1f",
   "metadata": {},
   "outputs": [
    {
     "data": {
      "text/plain": [
       "0.6"
      ]
     },
     "execution_count": 81,
     "metadata": {},
     "output_type": "execute_result"
    }
   ],
   "source": [
    "#infer mean \n",
    "\n",
    "p = 0.6\n",
    "n = 10\n",
    "X = bernoulli(p)\n",
    "Y = [X.rvs(n) for i in range(10000)]# One random sample\n",
    "\n",
    "y_bar = np.mean(Y[0])\n",
    "y_bar"
   ]
  },
  {
   "cell_type": "code",
   "execution_count": 93,
   "id": "ba267ad9",
   "metadata": {},
   "outputs": [
    {
     "data": {
      "image/png": "[encoded data removed]",
      "text/plain": [
       "<Figure size 432x288 with 1 Axes>"
      ]
     },
     "metadata": {
      "needs_background": "light"
     },
     "output_type": "display_data"
    }
   ],
   "source": [
    "#CLT\n",
    "\n",
    "elements = np.arange(6)\n",
    "probabilities = [0.3, 0., 0.05, 0.05, 0.2, 0.4]\n",
    "X = np.random.choice(elements, 100, p=probabilities)\n",
    "\n",
    "sns.histplot(X, stat='probability');\n",
    "\n"
   ]
  },
  {
   "cell_type": "code",
   "execution_count": 94,
   "id": "b967ffe4",
   "metadata": {},
   "outputs": [
    {
     "name": "stdout",
     "output_type": "stream",
     "text": [
      "[2 5 4 0]\n",
      "2.75\n"
     ]
    }
   ],
   "source": [
    "s_1 = np.random.choice(elements, 4, p=probabilities)\n",
    "print(s_1)\n",
    "x_bar_1 = np.mean(s_1)\n",
    "print(x_bar_1)\n"
   ]
  },
  {
   "cell_type": "code",
   "execution_count": 121,
   "id": "bbeda237",
   "metadata": {},
   "outputs": [
    {
     "name": "stdout",
     "output_type": "stream",
     "text": [
      "Kurtosis: -0.34\n",
      "Skew: -0.29\n",
      "---\n",
      "μ=3.04\n",
      "σ=1.08\n"
     ]
    },
    {
     "data": {
      "image/png": "[encoded data removed]",
      "text/plain": [
       "<Figure size 432x288 with 1 Axes>"
      ]
     },
     "metadata": {
      "needs_background": "light"
     },
     "output_type": "display_data"
    }
   ],
   "source": [
    "s = []\n",
    "n=4\n",
    "for i in range(10000):\n",
    "    s.append(np.random.choice(elements, n, p=probabilities))\n",
    "s = np.mean(np.asarray(s), axis=1)\n",
    "print('Kurtosis: ' + str(np.round(kurtosis(s),2)))\n",
    "print('Skew: ' + str(np.round(skew(s),2)))\n",
    "print('---')\n",
    "print('μ=' + str(np.round(np.mean(s), 2)))\n",
    "print('σ=' + str(np.round(np.std(s), 2)))\n",
    "sns.histplot(s, stat='probability');"
   ]
  },
  {
   "cell_type": "code",
   "execution_count": 126,
   "id": "defe4951",
   "metadata": {},
   "outputs": [
    {
     "name": "stdout",
     "output_type": "stream",
     "text": [
      "Kurtosis: -0.06\n",
      "Skew: -0.12\n",
      "---\n",
      "μ=3.05\n",
      "σ=0.48\n"
     ]
    },
    {
     "data": {
      "image/png": "[encoded data removed]",
      "text/plain": [
       "<Figure size 432x288 with 1 Axes>"
      ]
     },
     "metadata": {
      "needs_background": "light"
     },
     "output_type": "display_data"
    }
   ],
   "source": [
    "s = []\n",
    "n=20\n",
    "for i in range(10000):\n",
    "    s.append(np.random.choice(elements, n, p=probabilities))\n",
    "s = np.mean(np.asarray(s), axis=1)\n",
    "print('Kurtosis: ' + str(np.round(kurtosis(s),2)))\n",
    "print('Skew: ' + str(np.round(skew(s),2)))\n",
    "print('---')\n",
    "print('μ=' + str(np.round(np.mean(s), 2)))\n",
    "print('σ=' + str(np.round(np.std(s), 2)))\n",
    "sns.histplot(s, stat='probability');"
   ]
  },
  {
   "cell_type": "code",
   "execution_count": 130,
   "id": "5631ba8e",
   "metadata": {},
   "outputs": [
    {
     "name": "stdout",
     "output_type": "stream",
     "text": [
      "Kurtosis: -0.05\n",
      "Skew: -0.03\n",
      "---\n",
      "μ=3.05\n",
      "σ=0.22\n"
     ]
    },
    {
     "data": {
      "image/png": "[encoded data removed]",
      "text/plain": [
       "<Figure size 432x288 with 1 Axes>"
      ]
     },
     "metadata": {
      "needs_background": "light"
     },
     "output_type": "display_data"
    }
   ],
   "source": [
    "s = []\n",
    "n=100\n",
    "for i in range(10000):\n",
    "    s.append(np.random.choice(elements, n, p=probabilities))\n",
    "s = np.mean(np.asarray(s), axis=1)\n",
    "\n",
    "print('Kurtosis: ' + str(np.round(kurtosis(s),2)))\n",
    "print('Skew: ' + str(np.round(skew(s),2)))\n",
    "print('---')\n",
    "print('μ=' + str(np.round(np.mean(s), 2)))\n",
    "print('σ=' + str(np.round(np.std(s), 2)))\n",
    "sns.histplot(s, stat='probability');"
   ]
  },
  {
   "cell_type": "code",
   "execution_count": 176,
   "id": "12231319",
   "metadata": {},
   "outputs": [
    {
     "name": "stdout",
     "output_type": "stream",
     "text": [
      "0.4299279409577467 0.4299279409577467\n",
      "0.4425824195726958 0.4425824195726958\n",
      "0.40371968107541445 0.40371968107541445\n",
      "0.32011484975206195 0.32011484975206195\n",
      "0.5214421583637008 0.5214421583637008\n",
      "0.4475680095077612 0.4475680095077612\n",
      "0.4654877518803525 0.4654877518803525\n"
     ]
    }
   ],
   "source": [
    "2\n",
    "mu = [0] * number_cells\n",
    "sigma = [1] * number_cells\n",
    "N = 10\n",
    "s = np.random.normal(loc=mu,scale=sigma,size=N)\n",
    "print(np.mean(s),np.mean(s))\n",
    "\n",
    "s = s = np.random.normal(loc=np.mean(s),scale=np.std(s),size=N)\n",
    "print(np.mean(s),np.mean(s))\n",
    "\n",
    "s = s = np.random.normal(loc=np.mean(s),scale=np.std(s),size=N)\n",
    "print(np.mean(s),np.mean(s))\n",
    "\n",
    "s = s = np.random.normal(loc=np.mean(s),scale=np.std(s),size=N)\n",
    "print(np.mean(s),np.mean(s))\n",
    "\n",
    "s = s = np.random.normal(loc=np.mean(s),scale=np.std(s),size=N)\n",
    "print(np.mean(s),np.mean(s))\n",
    "\n",
    "s = s = np.random.normal(loc=np.mean(s),scale=np.std(s),size=N)\n",
    "print(np.mean(s),np.mean(s))\n",
    "\n",
    "s = s = np.random.normal(loc=np.mean(s),scale=np.std(s),size=N)\n",
    "print(np.mean(s),np.mean(s))"
   ]
  },
  {
   "cell_type": "code",
   "execution_count": 348,
   "id": "5c16253c",
   "metadata": {},
   "outputs": [
    {
     "name": "stdout",
     "output_type": "stream",
     "text": [
      "[0, 0, 0, 0, 0, 0, 0, 0, 0, 0, 0, 0, 0, 0, 0, 0, 0, 0, 0, 0] [1, 1, 1, 1, 1, 1, 1, 1, 1, 1, 1, 1, 1, 1, 1, 1, 1, 1, 1, 1]\n"
     ]
    },
    {
     "data": {
      "text/plain": [
       "<AxesSubplot:>"
      ]
     },
     "execution_count": 348,
     "metadata": {},
     "output_type": "execute_result"
    },
    {
     "data": {
      "image/png": "[encoded data removed]",
      "text/plain": [
       "<Figure size 432x288 with 2 Axes>"
      ]
     },
     "metadata": {
      "needs_background": "light"
     },
     "output_type": "display_data"
    }
   ],
   "source": [
    "number_cells = 20\n",
    "mu = [0] * number_cells\n",
    "sigma = [1] * number_cells\n",
    "N = 100\n",
    "\n",
    "s=[0] * number_cells\n",
    "\n",
    "print(mu,sigma)\n",
    "\n",
    "number_generations = 500\n",
    "mus=[mu]\n",
    "\n",
    "for trial in range(number_generations):\n",
    "    temp_mu = [0] * number_cells\n",
    "    temp_sigma = [1] * number_cells \n",
    "    for i, mean in enumerate(mu):\n",
    "   \n",
    "        s[i] = np.random.normal(loc=mean,scale=sigma[i],size=N)\n",
    "        mu_loop = mu[:i] + mu[i+1:]\n",
    "        for j, meanj in enumerate(mu_loop):\n",
    "            np.append(s[i],np.random.normal(loc=mean,scale=sigma[i],size=N))\n",
    "        temp_mu[i] = round(np.mean(s[i]),2)\n",
    "        temp_sigma[i] = round(np.std(s[i]),2)\n",
    "    \n",
    "    mu = temp_mu\n",
    "    sigma = temp_sigma\n",
    "    #print(mu,'\\n\\t',sigma,'sigma')\n",
    "    mus.append(mu)\n",
    "mus = pd.DataFrame(mus,columns=range(number_cells),index=range(number_generations+1))\n",
    "#print(mus)\n",
    "sns.heatmap(mus)\n",
    "\n"
   ]
  },
  {
   "cell_type": "code",
   "execution_count": 346,
   "id": "98ad570a",
   "metadata": {},
   "outputs": [
    {
     "data": {
      "text/plain": [
       "<AxesSubplot:>"
      ]
     },
     "execution_count": 346,
     "metadata": {},
     "output_type": "execute_result"
    },
    {
     "data": {
      "image/png": "[encoded data removed]",
      "text/plain": [
       "<Figure size 432x288 with 2 Axes>"
      ]
     },
     "metadata": {
      "needs_background": "light"
     },
     "output_type": "display_data"
    }
   ],
   "source": [
    "sns.heatmap(mus,cmap=\"YlGnBu\")\n"
   ]
  },
  {
   "cell_type": "code",
   "execution_count": 132,
   "id": "94dfe976",
   "metadata": {},
   "outputs": [],
   "source": [
    "import scipy.stats\n",
    "import numpy as np\n",
    "seed = 0x00c0ffee\n",
    "\n",
    "mean = 5\n",
    "rs = np.random.RandomState(seed)\n",
    "samples = scipy.stats.poisson.rvs(mean, size=12, random_state=rs)"
   ]
  },
  {
   "cell_type": "code",
   "execution_count": 133,
   "id": "3d661e45",
   "metadata": {},
   "outputs": [],
   "source": [
    "import scipy.stats\n",
    "\n",
    "mean = 5\n",
    "seed = 0x00c0ffee\n",
    "\n",
    "distribution = scipy.stats.poisson(mean)\n",
    "distribution.random_state = seed\n",
    "\n",
    "samples = distribution.rvs(size=12)"
   ]
  },
  {
   "cell_type": "code",
   "execution_count": 135,
   "id": "1ed5f59f",
   "metadata": {},
   "outputs": [],
   "source": [
    "def experiment_one(agents, steps):\n",
    "    def mkpoisson(l,seed):\n",
    "        p = scipy.stats.poisson(l)\n",
    "        p.random_state = seed\n",
    "        return p\n",
    "\n",
    "    seeds = np.random.randint(1<<32, size=agents)\n",
    "    streams = [mkpoisson(12, seed) for seed in seeds]\n",
    "    for p in streams:\n",
    "        p.rvs(steps)\n",
    "\n",
    "def experiment_two(agents, steps):\n",
    "    seeds = np.random.randint(1<<32, size=agents)\n",
    "    states = [np.random.RandomState(seed) for seed in seeds]\n",
    "    for rs in states:\n",
    "        scipy.stats.poisson.rvs(12, size=steps, random_state=rs)\n",
    "        "
   ]
  },
  {
   "cell_type": "code",
   "execution_count": 136,
   "id": "d1b28b6f",
   "metadata": {},
   "outputs": [
    {
     "name": "stdout",
     "output_type": "stream",
     "text": [
      "         13820020 function calls (13790020 primitive calls) in 7.119 seconds\n",
      "\n",
      "   Ordered by: internal time\n",
      "\n",
      "   ncalls  tottime  percall  cumtime  percall filename:lineno(function)\n",
      "    20000    1.089    0.000    2.660    0.000 doccer.py:10(docformat)\n",
      "  10001/1    0.733    0.000    7.140    7.140 {built-in method builtins.exec}\n",
      "    10000    0.609    0.000    0.625    0.000 {method 'poisson' of 'numpy.random.mtrand.RandomState' objects}\n",
      "    10000    0.562    0.000    0.562    0.000 {function SeedSequence.generate_state at 0x7f038c876310}\n",
      "    20000    0.398    0.000    1.143    0.000 _util.py:210(check_random_state)\n",
      "    20000    0.381    0.000    0.660    0.000 doccer.py:177(indentcount_lines)\n",
      "   640000    0.346    0.000    0.346    0.000 {method 'splitlines' of 'str' objects}\n",
      "    40000    0.234    0.000    0.247    0.000 function_base.py:2103(__init__)\n",
      "   640000    0.231    0.000    0.231    0.000 {method 'expandtabs' of 'str' objects}\n",
      "  4790000    0.228    0.000    0.228    0.000 {method 'append' of 'list' objects}\n",
      "   650000    0.122    0.000    0.133    0.000 {method 'join' of 'str' objects}\n",
      "    20000    0.120    0.000    0.303    0.000 inspect.py:2152(_signature_from_function)\n",
      "    40000    0.105    0.000    0.105    0.000 {method 'replace' of 'str' objects}\n",
      "   930000    0.104    0.000    0.104    0.000 {built-in method builtins.min}\n",
      "  1930000    0.095    0.000    0.095    0.000 {built-in method builtins.len}\n",
      "40000/20000    0.094    0.000    0.486    0.000 inspect.py:2246(_signature_from_callable)\n",
      "    10000    0.093    0.000    2.943    0.000 _distn_infrastructure.py:3020(_construct_docstrings)\n",
      "  1250000    0.087    0.000    0.087    0.000 {method 'lstrip' of 'str' objects}\n",
      "    10000    0.085    0.000    0.994    0.000 _distn_infrastructure.py:1032(rvs)\n",
      "    10000    0.063    0.000    0.414    0.000 _util.py:349(getfullargspec_no_self)\n",
      "    10000    0.062    0.000    0.295    0.000 inspect.py:1129(getfullargspec)\n",
      "    10000    0.061    0.000    2.839    0.000 _distn_infrastructure.py:794(_construct_doc)\n",
      "    60000    0.059    0.000    0.099    0.000 inspect.py:2498(__init__)\n",
      "    30000    0.054    0.000    0.080    0.000 inspect.py:2781(__init__)\n",
      "    10000    0.052    0.000    0.087    0.000 _distn_infrastructure.py:713(_construct_argparser)\n",
      "    50001    0.050    0.000    0.207    0.000 {built-in method numpy.core._multiarray_umath.implement_array_function}\n",
      "    10000    0.047    0.000    4.930    0.000 _distn_infrastructure.py:434(__init__)\n",
      "    10000    0.039    0.000    4.856    0.000 _distn_infrastructure.py:2959(__init__)\n",
      "    10000    0.039    0.000    0.146    0.000 _distn_infrastructure.py:883(_argcheck_rvs)\n",
      "    10000    0.035    0.000    1.042    0.000 _distn_infrastructure.py:2998(_attach_methods)\n",
      "    10000    0.032    0.000    0.745    0.000 _distn_infrastructure.py:631(__init__)\n",
      "   240000    0.029    0.000    0.041    0.000 {built-in method builtins.isinstance}\n",
      "    20000    0.027    0.000    0.065    0.000 _ufunc_config.py:32(seterr)\n",
      "    20001    0.023    0.000    0.023    0.000 {method 'reduce' of 'numpy.ufunc' objects}\n",
      "    10000    0.023    0.000    0.054    0.000 inspect.py:1840(_signature_bound_method)\n",
      "    60000    0.023    0.000    0.030    0.000 enum.py:358(__call__)\n",
      "    20000    0.021    0.000    0.023    0.000 _ufunc_config.py:131(geterr)\n",
      "    20001    0.020    0.000    0.072    0.000 fromnumeric.py:69(_wrapreduction)\n",
      "    80000    0.018    0.000    0.024    0.000 inspect.py:2830(<genexpr>)\n",
      "    10000    0.018    0.000    0.664    0.000 contextlib.py:76(inner)\n",
      "    10000    0.017    0.000    0.760    0.000 _distn_infrastructure.py:699(_attach_argparser_methods)\n",
      "    20000    0.015    0.000    0.043    0.000 {method 'all' of 'numpy.generic' objects}\n",
      "    10000    0.014    0.000    6.104    0.001 644889454.py:2(mkpoisson)\n",
      "    10000    0.014    0.000    1.022    0.000 _distn_infrastructure.py:470(rvs)\n",
      "    10000    0.012    0.000    0.013    0.000 stride_tricks.py:414(_broadcast_shape)\n",
      "    10000    0.012    0.000    0.050    0.000 stride_tricks.py:478(broadcast_arrays)\n",
      "    20000    0.012    0.000    0.083    0.000 fromnumeric.py:2367(all)\n",
      "    10000    0.011    0.000    0.019    0.000 inspect.py:494(unwrap)\n",
      "    10000    0.011    0.000    0.011    0.000 {built-in method posix.urandom}\n",
      "    10000    0.011    0.000    0.025    0.000 random.py:791(getrandbits)\n",
      "    90000    0.011    0.000    0.011    0.000 {method 'values' of 'mappingproxy' objects}\n",
      "    10000    0.011    0.000    0.011    0.000 _discrete_distns.py:811(_argcheck)\n",
      "    20000    0.011    0.000    0.011    0.000 _distn_infrastructure.py:802(<genexpr>)\n",
      "    10000    0.011    0.000    1.005    0.000 _distn_infrastructure.py:3087(rvs)\n",
      "   100000    0.010    0.000    0.010    0.000 {method 'get' of 'dict' objects}\n",
      "    10000    0.010    0.000    0.023    0.000 shape_base.py:23(atleast_1d)\n",
      "    30000    0.010    0.000    0.010    0.000 {built-in method _abc._abc_instancecheck}\n",
      "   120000    0.010    0.000    0.010    0.000 inspect.py:2548(name)\n",
      "    20000    0.010    0.000    0.010    0.000 {built-in method numpy.seterrobj}\n",
      "    10000    0.010    0.000    0.050    0.000 _ufunc_config.py:429(__enter__)\n",
      "    10000    0.010    0.000    0.012    0.000 _distn_infrastructure.py:2948(__new__)\n",
      "   130000    0.009    0.000    0.009    0.000 inspect.py:2560(kind)\n",
      "    10000    0.009    0.000    0.011    0.000 _util.py:371(<listcomp>)\n",
      "    10000    0.009    0.000    0.038    0.000 <__array_function__ internals>:2(concatenate)\n",
      "    10000    0.009    0.000    4.939    0.000 _distn_infrastructure.py:847(freeze)\n",
      "    10000    0.009    0.000    0.287    0.000 inspect.py:2859(from_callable)\n",
      "    40000    0.009    0.000    0.011    0.000 inspect.py:159(isfunction)\n",
      "    20000    0.009    0.000    0.108    0.000 <__array_function__ internals>:2(all)\n",
      "    10000    0.008    0.000    0.011    0.000 _distn_infrastructure.py:3050(_updated_ctor_param)\n",
      "    10000    0.008    0.000    0.008    0.000 {method 'match' of 're.Pattern' objects}\n",
      "    10000    0.008    0.000    0.033    0.000 _ufunc_config.py:434(__exit__)\n",
      "    30000    0.008    0.000    0.008    0.000 {built-in method numpy.array}\n",
      "    30000    0.008    0.000    0.008    0.000 {method 'copy' of 'dict' objects}\n",
      "    10000    0.008    0.000    0.008    0.000 {method 'reshape' of 'numpy.ndarray' objects}\n",
      "    10000    0.008    0.000    0.026    0.000 inspect.py:2873(replace)\n",
      "    60000    0.008    0.000    0.008    0.000 enum.py:670(__new__)\n",
      "    10000    0.008    0.000    0.016    0.000 numeric.py:1858(isscalar)\n",
      "    30000    0.007    0.000    0.007    0.000 {built-in method __new__ of type object at 0x556dc3df3740}\n",
      "    40000    0.007    0.000    0.007    0.000 {built-in method numpy.geterrobj}\n",
      "    10000    0.007    0.000    0.010    0.000 re.py:289(_compile)\n",
      "    90000    0.007    0.000    0.007    0.000 inspect.py:2865(parameters)\n",
      "    30000    0.007    0.000    0.017    0.000 abc.py:117(__instancecheck__)\n",
      "    20000    0.007    0.000    0.012    0.000 {built-in method builtins.all}\n",
      "    60000    0.006    0.000    0.006    0.000 {method 'isidentifier' of 'str' objects}\n",
      "    10000    0.006    0.000    0.008    0.000 _util.py:386(<genexpr>)\n",
      "    10000    0.006    0.000    0.014    0.000 stride_tricks.py:536(<listcomp>)\n",
      "    10000    0.006    0.000    0.024    0.000 re.py:188(match)\n",
      "    10000    0.006    0.000    4.945    0.000 _distn_infrastructure.py:864(__call__)\n",
      "    10000    0.006    0.000    0.292    0.000 inspect.py:3111(signature)\n",
      "    10000    0.006    0.000    1.145    0.000 _distn_infrastructure.py:448(random_state)\n",
      "    80000    0.006    0.000    0.006    0.000 inspect.py:2552(default)\n",
      "        1    0.006    0.006    6.109    6.109 644889454.py:8(<listcomp>)\n",
      "    10000    0.006    0.000    0.009    0.000 _distn_infrastructure.py:913(<listcomp>)\n",
      "    10000    0.005    0.000    0.010    0.000 function_base.py:244(iterable)\n",
      "    40000    0.005    0.000    0.005    0.000 stride_tricks.py:540(<genexpr>)\n",
      "        1    0.005    0.005    7.137    7.137 644889454.py:1(experiment_one)\n",
      "    10000    0.005    0.000    0.005    0.000 {method 'astype' of 'numpy.ndarray' objects}\n",
      "    10000    0.005    0.000    0.060    0.000 <__array_function__ internals>:2(broadcast_arrays)\n",
      "    10000    0.005    0.000    0.005    0.000 {built-in method builtins.iter}\n",
      "    20001    0.005    0.000    0.005    0.000 fromnumeric.py:70(<dictcomp>)\n",
      "    40001    0.005    0.000    0.005    0.000 {built-in method builtins.getattr}\n",
      "    20000    0.005    0.000    0.028    0.000 _methods.py:60(_all)\n",
      "    30000    0.004    0.000    0.004    0.000 {built-in method builtins.setattr}\n",
      "    10000    0.004    0.000    0.005    0.000 _util.py:376(<listcomp>)\n",
      "    10000    0.004    0.000    0.032    0.000 <__array_function__ internals>:2(atleast_1d)\n",
      "    40001    0.004    0.000    0.004    0.000 {method 'items' of 'dict' objects}\n",
      "    40000    0.004    0.000    0.004    0.000 {built-in method builtins.callable}\n",
      "    10000    0.004    0.000    0.004    0.000 _util.py:391(<listcomp>)\n",
      "    50000    0.004    0.000    0.004    0.000 inspect.py:2556(annotation)\n",
      "    10000    0.004    0.000    0.004    0.000 _util.py:398(<dictcomp>)\n",
      "    10000    0.004    0.000    0.004    0.000 _util.py:381(<listcomp>)\n",
      "    10000    0.003    0.000    0.004    0.000 _util.py:395(<dictcomp>)\n",
      "    10000    0.003    0.000    0.005    0.000 <string>:1(<lambda>)\n",
      "    30000    0.003    0.000    0.003    0.000 _distn_infrastructure.py:897(squeeze_left)\n",
      "    20000    0.003    0.000    0.003    0.000 {built-in method builtins.hasattr}\n",
      "    10000    0.003    0.000    0.628    0.000 _discrete_distns.py:814(_rvs)\n",
      "    10000    0.003    0.000    0.003    0.000 {built-in method numpy.asanyarray}\n",
      "    10000    0.003    0.000    0.003    0.000 {built-in method from_bytes}\n",
      "    10000    0.003    0.000    0.004    0.000 inspect.py:514(_is_wrapper)\n",
      "        1    0.003    0.003    7.139    7.139 <string>:1(<module>)\n",
      "    10000    0.002    0.000    0.002    0.000 {method 'split' of 'str' objects}\n",
      "    10000    0.002    0.000    0.002    0.000 _distn_infrastructure.py:942(<listcomp>)\n",
      "    20000    0.002    0.000    0.002    0.000 {method 'pop' of 'dict' objects}\n",
      "    20000    0.002    0.000    0.002    0.000 fromnumeric.py:2362(_all_dispatcher)\n",
      "    10000    0.002    0.000    0.002    0.000 {method 'update' of 'dict' objects}\n",
      "    10000    0.002    0.000    0.002    0.000 {built-in method builtins.id}\n",
      "    10000    0.002    0.000    0.002    0.000 _distn_infrastructure.py:970(_get_support)\n",
      "    10000    0.002    0.000    0.002    0.000 {method '__contains__' of 'frozenset' objects}\n",
      "    10000    0.002    0.000    0.002    0.000 {built-in method sys.getrecursionlimit}\n",
      "    10000    0.002    0.000    0.002    0.000 multiarray.py:148(concatenate)\n",
      "        1    0.001    0.001    0.001    0.001 {method 'randint' of 'numpy.random.mtrand.RandomState' objects}\n",
      "    10000    0.001    0.000    0.001    0.000 contextlib.py:63(_recreate_cm)\n",
      "    10000    0.001    0.000    0.001    0.000 inspect.py:2869(return_annotation)\n",
      "    10000    0.001    0.000    0.001    0.000 stride_tricks.py:474(_broadcast_arrays_dispatcher)\n",
      "    10000    0.001    0.000    0.001    0.000 shape_base.py:19(_atleast_1d_dispatcher)\n",
      "        1    0.000    0.000    0.000    0.000 <__array_function__ internals>:2(prod)\n",
      "        1    0.000    0.000    0.000    0.000 fromnumeric.py:2933(prod)\n",
      "        1    0.000    0.000    0.000    0.000 {built-in method _abc._abc_subclasscheck}\n",
      "        1    0.000    0.000    0.000    0.000 abc.py:121(__subclasscheck__)\n",
      "        1    0.000    0.000    0.000    0.000 {method 'disable' of '_lsprof.Profiler' objects}\n",
      "        1    0.000    0.000    0.000    0.000 <string>:5(_parse_args_rvs)\n",
      "        1    0.000    0.000    0.000    0.000 fromnumeric.py:2928(_prod_dispatcher)\n",
      "        1    0.000    0.000    0.000    0.000 <string>:2(<module>)\n",
      "        1    0.000    0.000    0.000    0.000 <string>:2(_parse_args)\n",
      "\n",
      "\n"
     ]
    }
   ],
   "source": [
    "import cProfile\n",
    "import pstats\n",
    "from pstats import SortKey\n",
    "\n",
    "cProfile.run(\"experiment_one(10000,1000)\", sort=SortKey.TIME)"
   ]
  }
 ],
 "metadata": {
  "kernelspec": {
   "display_name": "Python 3 (ipykernel)",
   "language": "python",
   "name": "python3"
  },
  "language_info": {
   "codemirror_mode": {
    "name": "ipython",
    "version": 3
   },
   "file_extension": ".py",
   "mimetype": "text/x-python",
   "name": "python",
   "nbconvert_exporter": "python",
   "pygments_lexer": "ipython3",
   "version": "3.9.12"
  }
 },
 "nbformat": 4,
 "nbformat_minor": 5
}
